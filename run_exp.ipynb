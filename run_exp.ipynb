{
 "cells": [
  {
   "cell_type": "markdown",
   "metadata": {},
   "source": [
    "# Running Linear Regression Experiment with Budget Deficit Data"
   ]
  },
  {
   "cell_type": "code",
   "execution_count": 54,
   "metadata": {},
   "outputs": [
    {
     "data": {
      "text/plain": [
       "0    20\n",
       "1    22\n",
       "2    12\n",
       "dtype: int64"
      ]
     },
     "execution_count": 54,
     "metadata": {},
     "output_type": "execute_result"
    },
    {
     "data": {
      "text/plain": [
       "0    18\n",
       "1    20\n",
       "2    10\n",
       "dtype: int64"
      ]
     },
     "execution_count": 54,
     "metadata": {},
     "output_type": "execute_result"
    }
   ],
   "source": [
    "import pandas as pd\n",
    "from normalize import zScoreNorm\n",
    "\n",
    "ser = pd.Series([20, 22, 12])\n",
    "ser\n",
    "ser = ser.apply(zScoreNorm, args=(2,2,1,1,True))\n",
    "ser\n",
    "\n",
    "training_x_header = 'Train Year'\n",
    "training_y_header = 'Train Deficit ($ millions)'\n",
    "\n",
    "test_x_header = 'Test Year'\n",
    "test_y_header = 'Test Deficit ($ millions)'\n"
   ]
  },
  {
   "cell_type": "code",
   "execution_count": 14,
   "metadata": {},
   "outputs": [],
   "source": [
    "#IMPORT ALL DATA \n",
    "all_train = pd.read_csv(\"deficit_train.dat\", sep=\" \", header=None, names=[training_x_header, training_y_header])\n",
    "all_test = pd.read_csv(\"deficit_test.dat\", sep=\" \", header=None, names=[test_x_header, test_y_header])"
   ]
  },
  {
   "cell_type": "code",
   "execution_count": 15,
   "metadata": {},
   "outputs": [],
   "source": [
    "#SEPARATE ATTRIBUTES FROM LABEL\n",
    "x_train = all_train[training_x_header]\n",
    "y_train = all_train[training_y_header]\n",
    "x_test = all_test[test_x_header]\n",
    "y_test = all_test[test_y_header]"
   ]
  },
  {
   "cell_type": "code",
   "execution_count": 16,
   "metadata": {},
   "outputs": [],
   "source": [
    "#NECESSARY CONSTANTS\n",
    "num_train_instances = x_train.size\n",
    "num_test_instances = x_test.size\n",
    "num_folds = 6\n",
    "chunk = num_train_instances // num_folds\n",
    "Lambda = 0\n",
    "degrees = 12\n",
    "n = degrees + 1"
   ]
  },
  {
   "cell_type": "code",
   "execution_count": 17,
   "metadata": {},
   "outputs": [],
   "source": [
    "#PERFORMANCE METRICS\n",
    "RMSE_per_fold_deg = pd.DataFrame(0.0, index = [f'fold {i}' for i in range(num_folds)], columns=[f'degree {i}' for i in range(degrees)])\n",
    "RMSE_per_fold_deg_mean = pd.DataFrame(0.0, index = ['Mean'],columns=[f'degree {i}' for i in range(degrees)])\n",
    "RMSE_min = 0\n",
    "opt_deg = 0\n",
    "RMSE_test = 0"
   ]
  },
  {
   "cell_type": "code",
   "execution_count": null,
   "metadata": {},
   "outputs": [],
   "source": [
    "#CREATE FOLDS FOR CROSS VALIDATION\n",
    "for fold in range(num_folds):\n",
    "    if fold == 0: #First fold = first 'chunk' is the holdout set, rest is training set\n",
    "        x_train_folds = pd.Series(x_train[chunk + 1:]).reset_index(drop=True) # reset_index restores regular order of partial series\n",
    "        y_train_folds = pd.Series(y_train[chunk + 1:]).reset_index(drop=True)\n",
    "        x_holdout = pd.Series(x_train[0:chunk]).reset_index(drop=True)\n",
    "        y_holdout = pd.Series(y_train[0:chunk]).reset_index(drop=True)\n",
    "    else: #Other fold = instances from the first instance to right before the holdout set, continue past holdout set to the end\n",
    "        x_train_folds = pd.concat([x_train[0: (fold)*chunk], x_train[(fold  + 1)*chunk:]]).reset_index(drop=True)\n",
    "        y_train_folds = pd.concat([y_train[0: (fold)*chunk], y_train[(fold  + 1)*chunk:]]).reset_index(drop=True)\n",
    "        x_holdout = pd.concat([x_train[fold*chunk + 1: (fold + 1)*chunk]])\n",
    "        y_holdout = pd.concat([y_train[fold*chunk + 1: (fold + 1)*chunk]])\n",
    "    #Folds are created. The following code repeats for every subsequent fold in the for loop \n",
    "    #NORMALIZATION\n",
    "\n",
    "\n",
    "    x_train_folds = x_train_folds.apply(zScoreNorm, args=(x_train_folds.mean(), x_train_folds.std(), y_train_folds.mean(), y_train_folds.std(), False))\n",
    "    y_train_folds = y_train_folds.apply(zScoreNorm, args=(x_train_folds.mean(), x_train_folds.std(), y_train_folds.mean(), y_train_folds.std(), True))\n",
    "    x_holdout = x_holdout.apply(zScoreNorm, args=(x_train_folds.mean(), x_train_folds.std(), y_train_folds.mean(), y_train_folds.std(), False))\n",
    "    y_holdout = y_holdout.apply(zScoreNorm, args=(x_train_folds.mean(), x_train_folds.std(), y_train_folds.mean(), y_train_folds.std(), True))\n",
    "\n",
    "\n",
    "\n",
    "\n",
    "\n"
   ]
  }
 ],
 "metadata": {
  "kernelspec": {
   "display_name": "Python 3.9.12 ('base')",
   "language": "python",
   "name": "python3"
  },
  "language_info": {
   "codemirror_mode": {
    "name": "ipython",
    "version": 3
   },
   "file_extension": ".py",
   "mimetype": "text/x-python",
   "name": "python",
   "nbconvert_exporter": "python",
   "pygments_lexer": "ipython3",
   "version": "3.9.12"
  },
  "orig_nbformat": 4,
  "vscode": {
   "interpreter": {
    "hash": "f4464d9d98df86030bb83b7a330dd664c03d0f2e2e62c40abef14afe3b641395"
   }
  }
 },
 "nbformat": 4,
 "nbformat_minor": 2
}
