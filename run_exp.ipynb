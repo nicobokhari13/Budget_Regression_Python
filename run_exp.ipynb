{
 "cells": [
  {
   "cell_type": "markdown",
   "metadata": {},
   "source": [
    "# Running Linear Regression Experiment with Budget Deficit Data"
   ]
  },
  {
   "cell_type": "code",
   "execution_count": 2,
   "metadata": {},
   "outputs": [],
   "source": [
    "import pandas as pd\n",
    "from normalize import zScoreNorm\n",
    "from sklearn.preprocessing import PolynomialFeatures \n",
    "from sklearn.linear_model import LinearRegression\n",
    "import matplotlib.pyplot as plt\n",
    "\n",
    "\n",
    "training_x_header = 'Train Year'\n",
    "training_y_header = 'Train Deficit ($ millions)'\n",
    "\n",
    "test_x_header = 'Test Year'\n",
    "test_y_header = 'Test Deficit ($ millions)'\n"
   ]
  },
  {
   "cell_type": "code",
   "execution_count": 3,
   "metadata": {},
   "outputs": [],
   "source": [
    "#IMPORT ALL DATA \n",
    "all_train = pd.read_csv(\"deficit_train.dat\", sep=\" \", header=None, names=[training_x_header, training_y_header])\n",
    "all_test = pd.read_csv(\"deficit_test.dat\", sep=\" \", header=None, names=[test_x_header, test_y_header])"
   ]
  },
  {
   "cell_type": "code",
   "execution_count": 4,
   "metadata": {},
   "outputs": [],
   "source": [
    "#SEPARATE ATTRIBUTES FROM LABEL\n",
    "x_train = all_train[training_x_header]\n",
    "y_train = all_train[training_y_header]\n",
    "x_test = all_test[test_x_header]\n",
    "y_test = all_test[test_y_header]"
   ]
  },
  {
   "cell_type": "code",
   "execution_count": 5,
   "metadata": {},
   "outputs": [],
   "source": [
    "#NECESSARY CONSTANTS\n",
    "num_train_instances = x_train.size\n",
    "num_test_instances = x_test.size\n",
    "num_folds = 6\n",
    "chunk = num_train_instances // num_folds\n",
    "Lambda = 0\n",
    "degrees = 12\n",
    "n = degrees + 1"
   ]
  },
  {
   "cell_type": "code",
   "execution_count": 6,
   "metadata": {},
   "outputs": [],
   "source": [
    "#PERFORMANCE METRICS\n",
    "RMSE_per_fold_deg = pd.DataFrame(0.0, index = [f'fold {i}' for i in range(num_folds)], columns=[f'degree {i}' for i in range(degrees)])\n",
    "RMSE_per_fold_deg_mean = pd.DataFrame(0.0, index = ['Mean'],columns=[f'degree {i}' for i in range(degrees)])\n",
    "RMSE_min = 0\n",
    "opt_deg = 0\n",
    "RMSE_test = 0"
   ]
  },
  {
   "cell_type": "code",
   "execution_count": 24,
   "metadata": {},
   "outputs": [
    {
     "data": {
      "text/plain": [
       "array([0.31906506])"
      ]
     },
     "execution_count": 24,
     "metadata": {},
     "output_type": "execute_result"
    },
    {
     "data": {
      "text/plain": [
       "1.7036651400450347e-15"
      ]
     },
     "execution_count": 24,
     "metadata": {},
     "output_type": "execute_result"
    },
    {
     "data": {
      "text/plain": [
       "array([ 0.29983781, -0.15149593])"
      ]
     },
     "execution_count": 24,
     "metadata": {},
     "output_type": "execute_result"
    },
    {
     "data": {
      "text/plain": [
       "0.14716747178133513"
      ]
     },
     "execution_count": 24,
     "metadata": {},
     "output_type": "execute_result"
    },
    {
     "data": {
      "text/plain": [
       "array([ 1.74213054, -0.25806653, -0.84476627])"
      ]
     },
     "execution_count": 24,
     "metadata": {},
     "output_type": "execute_result"
    },
    {
     "data": {
      "text/plain": [
       "0.14654215442347115"
      ]
     },
     "execution_count": 24,
     "metadata": {},
     "output_type": "execute_result"
    },
    {
     "data": {
      "text/plain": [
       "array([ 2.06578356,  2.22091603, -1.11709532, -1.05853108])"
      ]
     },
     "execution_count": 24,
     "metadata": {},
     "output_type": "execute_result"
    },
    {
     "data": {
      "text/plain": [
       "-0.5231005727892333"
      ]
     },
     "execution_count": 24,
     "metadata": {},
     "output_type": "execute_result"
    },
    {
     "data": {
      "text/plain": [
       "array([ 0.79648199,  2.42287731,  1.00793008, -1.20762986, -0.69959516])"
      ]
     },
     "execution_count": 24,
     "metadata": {},
     "output_type": "execute_result"
    },
    {
     "data": {
      "text/plain": [
       "-0.5032069267957741"
      ]
     },
     "execution_count": 24,
     "metadata": {},
     "output_type": "execute_result"
    },
    {
     "data": {
      "text/plain": [
       "array([ 0.67882253,  1.37992959,  1.25649585, -0.06113017, -0.80052129,\n",
       "       -0.31123958])"
      ]
     },
     "execution_count": 24,
     "metadata": {},
     "output_type": "execute_result"
    },
    {
     "data": {
      "text/plain": [
       "-0.37033563625933624"
      ]
     },
     "execution_count": 24,
     "metadata": {},
     "output_type": "execute_result"
    },
    {
     "data": {
      "text/plain": [
       "array([ 0.30211982,  1.60218413,  2.51246549, -0.3805916 , -1.82869733,\n",
       "       -0.20792288,  0.23882364])"
      ]
     },
     "execution_count": 24,
     "metadata": {},
     "output_type": "execute_result"
    },
    {
     "data": {
      "text/plain": [
       "-0.3769217070659281"
      ]
     },
     "execution_count": 24,
     "metadata": {},
     "output_type": "execute_result"
    },
    {
     "data": {
      "text/plain": [
       "array([ 0.26553495,  1.09164259,  2.70464993,  0.64976577, -2.03311009,\n",
       "       -0.8704705 ,  0.29577401,  0.13302987])"
      ]
     },
     "execution_count": 24,
     "metadata": {},
     "output_type": "execute_result"
    },
    {
     "data": {
      "text/plain": [
       "-0.3386658352397529"
      ]
     },
     "execution_count": 24,
     "metadata": {},
     "output_type": "execute_result"
    },
    {
     "data": {
      "text/plain": [
       "array([ 0.69971102,  0.80094648,  0.0876321 ,  1.48887747,  1.97819083,\n",
       "       -1.57072946, -1.92716363,  0.30470601,  0.40581587])"
      ]
     },
     "execution_count": 24,
     "metadata": {},
     "output_type": "execute_result"
    },
    {
     "data": {
      "text/plain": [
       "-0.3337159771930547"
      ]
     },
     "execution_count": 24,
     "metadata": {},
     "output_type": "execute_result"
    },
    {
     "data": {
      "text/plain": [
       "array([ 0.67858239,  0.60428635,  0.23820205,  2.09081684,  1.72636682,\n",
       "       -2.23603428, -1.77575425,  0.60917296,  0.37593594, -0.04912075])"
      ]
     },
     "execution_count": 24,
     "metadata": {},
     "output_type": "execute_result"
    },
    {
     "data": {
      "text/plain": [
       "-0.32254033947588123"
      ]
     },
     "execution_count": 24,
     "metadata": {},
     "output_type": "execute_result"
    },
    {
     "data": {
      "text/plain": [
       "array([ 0.65180004,  0.62256973,  0.47959615,  1.98455074,  1.17177168,\n",
       "       -2.07636504, -1.26507279,  0.52054393,  0.17068899, -0.0327084 ,\n",
       "        0.03004332])"
      ]
     },
     "execution_count": 24,
     "metadata": {},
     "output_type": "execute_result"
    },
    {
     "data": {
      "text/plain": [
       "-0.3223347880703631"
      ]
     },
     "execution_count": 24,
     "metadata": {},
     "output_type": "execute_result"
    },
    {
     "data": {
      "text/plain": [
       "array([ 0.60426089,  0.29178364,  0.93258529,  3.54586468,  0.01129526,\n",
       "       -4.83239719, -0.06868392,  2.7195079 , -0.36179578, -0.84028738,\n",
       "        0.11522629,  0.11115114])"
      ]
     },
     "execution_count": 24,
     "metadata": {},
     "output_type": "execute_result"
    },
    {
     "data": {
      "text/plain": [
       "-0.30815461268985667"
      ]
     },
     "execution_count": 24,
     "metadata": {},
     "output_type": "execute_result"
    },
    {
     "data": {
      "text/plain": [
       "array([0.45245195])"
      ]
     },
     "execution_count": 24,
     "metadata": {},
     "output_type": "execute_result"
    },
    {
     "data": {
      "text/plain": [
       "9.59375949581116e-16"
      ]
     },
     "execution_count": 24,
     "metadata": {},
     "output_type": "execute_result"
    },
    {
     "data": {
      "text/plain": [
       "array([ 0.4482708, -0.0296023])"
      ]
     },
     "execution_count": 24,
     "metadata": {},
     "output_type": "execute_result"
    },
    {
     "data": {
      "text/plain": [
       "0.028756523470877697"
      ]
     },
     "execution_count": 24,
     "metadata": {},
     "output_type": "execute_result"
    },
    {
     "data": {
      "text/plain": [
       "array([ 1.74341941, -0.20492578, -0.74719658])"
      ]
     },
     "execution_count": 24,
     "metadata": {},
     "output_type": "execute_result"
    },
    {
     "data": {
      "text/plain": [
       "0.09654891305952236"
      ]
     },
     "execution_count": 24,
     "metadata": {},
     "output_type": "execute_result"
    },
    {
     "data": {
      "text/plain": [
       "array([ 2.1794156 ,  2.08187972, -1.12505915, -0.97520813])"
      ]
     },
     "execution_count": 24,
     "metadata": {},
     "output_type": "execute_result"
    },
    {
     "data": {
      "text/plain": [
       "-0.5032938948088242"
      ]
     },
     "execution_count": 24,
     "metadata": {},
     "output_type": "execute_result"
    },
    {
     "data": {
      "text/plain": [
       "array([ 0.96629324,  2.6444309 ,  0.92682706, -1.30224365, -0.68342568])"
      ]
     },
     "execution_count": 24,
     "metadata": {},
     "output_type": "execute_result"
    },
    {
     "data": {
      "text/plain": [
       "-0.5845223535600551"
      ]
     },
     "execution_count": 24,
     "metadata": {},
     "output_type": "execute_result"
    },
    {
     "data": {
      "text/plain": [
       "array([ 0.74869925,  1.53394453,  1.41869665, -0.07703864, -0.88608509,\n",
       "       -0.33709676])"
      ]
     },
     "execution_count": 24,
     "metadata": {},
     "output_type": "execute_result"
    },
    {
     "data": {
      "text/plain": [
       "-0.44617705105254496"
      ]
     },
     "execution_count": 24,
     "metadata": {},
     "output_type": "execute_result"
    },
    {
     "data": {
      "text/plain": [
       "array([ 0.48709381,  1.7924953 ,  2.30038579, -0.44132863, -1.61237145,\n",
       "       -0.21764452,  0.17124978])"
      ]
     },
     "execution_count": 24,
     "metadata": {},
     "output_type": "execute_result"
    },
    {
     "data": {
      "text/plain": [
       "-0.46647186492480514"
      ]
     },
     "execution_count": 24,
     "metadata": {},
     "output_type": "execute_result"
    },
    {
     "data": {
      "text/plain": [
       "array([ 0.41243829,  1.31712571,  2.64013987,  0.54392628, -1.95980516,\n",
       "       -0.86535325,  0.26744031,  0.133465  ])"
      ]
     },
     "execution_count": 24,
     "metadata": {},
     "output_type": "execute_result"
    },
    {
     "data": {
      "text/plain": [
       "-0.43243471623743607"
      ]
     },
     "execution_count": 24,
     "metadata": {},
     "output_type": "execute_result"
    },
    {
     "data": {
      "text/plain": [
       "array([ 0.77975254,  0.80820722,  0.49717288,  1.87823472,  1.3011397 ,\n",
       "       -1.9245325 , -1.55053388,  0.38690337,  0.33741692])"
      ]
     },
     "execution_count": 24,
     "metadata": {},
     "output_type": "execute_result"
    },
    {
     "data": {
      "text/plain": [
       "-0.40755418038375063"
      ]
     },
     "execution_count": 24,
     "metadata": {},
     "output_type": "execute_result"
    },
    {
     "data": {
      "text/plain": [
       "array([ 0.90607987,  1.49092497, -0.34269298, -0.29932973,  2.71342426,\n",
       "        0.54550286, -2.41130746, -0.7711838 ,  0.51012159,  0.19198958])"
      ]
     },
     "execution_count": 24,
     "metadata": {},
     "output_type": "execute_result"
    },
    {
     "data": {
      "text/plain": [
       "-0.44244924660979895"
      ]
     },
     "execution_count": 24,
     "metadata": {},
     "output_type": "execute_result"
    },
    {
     "data": {
      "text/plain": [
       "array([ 0.58729111,  2.25654999,  2.43029874, -3.37567043, -3.69839026,\n",
       "        4.58921077,  3.5963678 , -2.87137953, -1.96580275,  0.56705334,\n",
       "        0.37415458])"
      ]
     },
     "execution_count": 24,
     "metadata": {},
     "output_type": "execute_result"
    },
    {
     "data": {
      "text/plain": [
       "-0.46814819109071576"
      ]
     },
     "execution_count": 24,
     "metadata": {},
     "output_type": "execute_result"
    },
    {
     "data": {
      "text/plain": [
       "array([  0.11185725,   0.84717457,   6.90711305,   3.51799389,\n",
       "       -15.05866942,  -8.05403942,  15.15438893,   7.66582511,\n",
       "        -7.05196787,  -3.49543247,   1.18197297,   0.58936115])"
      ]
     },
     "execution_count": 24,
     "metadata": {},
     "output_type": "execute_result"
    },
    {
     "data": {
      "text/plain": [
       "-0.4139860001667371"
      ]
     },
     "execution_count": 24,
     "metadata": {},
     "output_type": "execute_result"
    },
    {
     "data": {
      "text/plain": [
       "array([0.35026825])"
      ]
     },
     "execution_count": 24,
     "metadata": {},
     "output_type": "execute_result"
    },
    {
     "data": {
      "text/plain": [
       "8.358478432120693e-17"
      ]
     },
     "execution_count": 24,
     "metadata": {},
     "output_type": "execute_result"
    },
    {
     "data": {
      "text/plain": [
       "array([ 0.33955341, -0.10688058])"
      ]
     },
     "execution_count": 24,
     "metadata": {},
     "output_type": "execute_result"
    },
    {
     "data": {
      "text/plain": [
       "0.10382684941826757"
      ]
     },
     "execution_count": 24,
     "metadata": {},
     "output_type": "execute_result"
    },
    {
     "data": {
      "text/plain": [
       "array([ 1.81323187, -0.24035246, -0.86135141])"
      ]
     },
     "execution_count": 24,
     "metadata": {},
     "output_type": "execute_result"
    },
    {
     "data": {
      "text/plain": [
       "0.1496014534813942"
      ]
     },
     "execution_count": 24,
     "metadata": {},
     "output_type": "execute_result"
    },
    {
     "data": {
      "text/plain": [
       "array([ 2.02829586,  2.09836848, -1.07072155, -0.9869406 ])"
      ]
     },
     "execution_count": 24,
     "metadata": {},
     "output_type": "execute_result"
    },
    {
     "data": {
      "text/plain": [
       "-0.48749145206352623"
      ]
     },
     "execution_count": 24,
     "metadata": {},
     "output_type": "execute_result"
    },
    {
     "data": {
      "text/plain": [
       "array([ 0.79230097,  2.35423029,  1.02935525, -1.14780527, -0.69206207])"
      ]
     },
     "execution_count": 24,
     "metadata": {},
     "output_type": "execute_result"
    },
    {
     "data": {
      "text/plain": [
       "-0.5211716423752419"
      ]
     },
     "execution_count": 24,
     "metadata": {},
     "output_type": "execute_result"
    },
    {
     "data": {
      "text/plain": [
       "array([ 0.72816629,  1.65575202,  1.17271348, -0.39747114, -0.75124638,\n",
       "       -0.20016416])"
      ]
     },
     "execution_count": 24,
     "metadata": {},
     "output_type": "execute_result"
    },
    {
     "data": {
      "text/plain": [
       "-0.4276226262687793"
      ]
     },
     "execution_count": 24,
     "metadata": {},
     "output_type": "execute_result"
    },
    {
     "data": {
      "text/plain": [
       "array([ 0.28059408,  1.89439448,  2.62545633, -0.71908876, -1.90002991,\n",
       "       -0.09895454,  0.25841277])"
      ]
     },
     "execution_count": 24,
     "metadata": {},
     "output_type": "execute_result"
    },
    {
     "data": {
      "text/plain": [
       "-0.44833600031035686"
      ]
     },
     "execution_count": 24,
     "metadata": {},
     "output_type": "execute_result"
    },
    {
     "data": {
      "text/plain": [
       "array([ 0.19824941,  1.11210322,  2.97764057,  0.84211576, -2.24176577,\n",
       "       -1.08195555,  0.34799541,  0.19260023])"
      ]
     },
     "execution_count": 24,
     "metadata": {},
     "output_type": "execute_result"
    },
    {
     "data": {
      "text/plain": [
       "-0.38762363572405073"
      ]
     },
     "execution_count": 24,
     "metadata": {},
     "output_type": "execute_result"
    },
    {
     "data": {
      "text/plain": [
       "array([ 0.71069851,  0.89570054,  0.22974502,  1.48361064,  1.66485807,\n",
       "       -1.61758056, -1.68753208,  0.32175345,  0.35192498])"
      ]
     },
     "execution_count": 24,
     "metadata": {},
     "output_type": "execute_result"
    },
    {
     "data": {
      "text/plain": [
       "-0.38061140386736286"
      ]
     },
     "execution_count": 24,
     "metadata": {},
     "output_type": "execute_result"
    },
    {
     "data": {
      "text/plain": [
       "array([ 0.72349817,  0.97190688,  0.15704503,  1.23911189,  1.77631745,\n",
       "       -1.3452199 , -1.75097733,  0.19856178,  0.36390576,  0.01944058])"
      ]
     },
     "execution_count": 24,
     "metadata": {},
     "output_type": "execute_result"
    },
    {
     "data": {
      "text/plain": [
       "-0.3844634248381013"
      ]
     },
     "execution_count": 24,
     "metadata": {},
     "output_type": "execute_result"
    },
    {
     "data": {
      "text/plain": [
       "array([ 0.04632899,  1.32034503,  5.40073787, -0.73556061, -9.62500011,\n",
       "        1.5484547 ,  8.38104178, -1.36949557, -3.58246499,  0.30267591,\n",
       "        0.55980088])"
      ]
     },
     "execution_count": 24,
     "metadata": {},
     "output_type": "execute_result"
    },
    {
     "data": {
      "text/plain": [
       "-0.3794187015983432"
      ]
     },
     "execution_count": 24,
     "metadata": {},
     "output_type": "execute_result"
    },
    {
     "data": {
      "text/plain": [
       "array([ -0.065792  ,   0.75386565,   6.29292363,   2.14777714,\n",
       "       -11.80457776,  -3.66415788,  10.57849727,   2.80839364,\n",
       "        -4.54402367,  -1.22262985,   0.711021  ,   0.20722334])"
      ]
     },
     "execution_count": 24,
     "metadata": {},
     "output_type": "execute_result"
    },
    {
     "data": {
      "text/plain": [
       "-0.36157846931149246"
      ]
     },
     "execution_count": 24,
     "metadata": {},
     "output_type": "execute_result"
    },
    {
     "data": {
      "text/plain": [
       "array([0.15984636])"
      ]
     },
     "execution_count": 24,
     "metadata": {},
     "output_type": "execute_result"
    },
    {
     "data": {
      "text/plain": [
       "5.565508693145478e-16"
      ]
     },
     "execution_count": 24,
     "metadata": {},
     "output_type": "execute_result"
    },
    {
     "data": {
      "text/plain": [
       "array([ 0.17952242, -0.27992768])"
      ]
     },
     "execution_count": 24,
     "metadata": {},
     "output_type": "execute_result"
    },
    {
     "data": {
      "text/plain": [
       "0.2719297433028868"
      ]
     },
     "execution_count": 24,
     "metadata": {},
     "output_type": "execute_result"
    },
    {
     "data": {
      "text/plain": [
       "array([ 1.81664384, -0.0789109 , -0.96516727])"
      ]
     },
     "execution_count": 24,
     "metadata": {},
     "output_type": "execute_result"
    },
    {
     "data": {
      "text/plain": [
       "0.14255940759457758"
      ]
     },
     "execution_count": 24,
     "metadata": {},
     "output_type": "execute_result"
    },
    {
     "data": {
      "text/plain": [
       "array([ 1.86540648,  2.6707117 , -0.8644777 , -1.21314564])"
      ]
     },
     "execution_count": 24,
     "metadata": {},
     "output_type": "execute_result"
    },
    {
     "data": {
      "text/plain": [
       "-0.5191746636455701"
      ]
     },
     "execution_count": 24,
     "metadata": {},
     "output_type": "execute_result"
    },
    {
     "data": {
      "text/plain": [
       "array([ 0.53149391,  2.51660024,  1.53625236, -1.10895023, -0.8319379 ])"
      ]
     },
     "execution_count": 24,
     "metadata": {},
     "output_type": "execute_result"
    },
    {
     "data": {
      "text/plain": [
       "-0.4305660076214953"
      ]
     },
     "execution_count": 24,
     "metadata": {},
     "output_type": "execute_result"
    },
    {
     "data": {
      "text/plain": [
       "array([ 0.59841365,  1.7385304 ,  1.39057443, -0.23394818, -0.77148173,\n",
       "       -0.24469256])"
      ]
     },
     "execution_count": 24,
     "metadata": {},
     "output_type": "execute_result"
    },
    {
     "data": {
      "text/plain": [
       "-0.3395797526172398"
      ]
     },
     "execution_count": 24,
     "metadata": {},
     "output_type": "execute_result"
    },
    {
     "data": {
      "text/plain": [
       "array([-0.10361096,  1.56154109,  3.93887594,  0.0858703 , -2.92025936,\n",
       "       -0.36420568,  0.51148472])"
      ]
     },
     "execution_count": 24,
     "metadata": {},
     "output_type": "execute_result"
    },
    {
     "data": {
      "text/plain": [
       "-0.308254988166198"
      ]
     },
     "execution_count": 24,
     "metadata": {},
     "output_type": "execute_result"
    },
    {
     "data": {
      "text/plain": [
       "array([-3.14054371e-03,  4.06470682e-01,  3.61701930e+00,  2.57100804e+00,\n",
       "       -2.58843282e+00, -2.02971215e+00,  4.15828372e-01,  3.45968974e-01])"
      ]
     },
     "execution_count": 24,
     "metadata": {},
     "output_type": "execute_result"
    },
    {
     "data": {
      "text/plain": [
       "-0.22901902651406958"
      ]
     },
     "execution_count": 24,
     "metadata": {},
     "output_type": "execute_result"
    },
    {
     "data": {
      "text/plain": [
       "array([ 0.42392245,  0.94048897,  0.83083505,  1.30254054,  1.87830769,\n",
       "       -1.06183631, -2.15915812,  0.11927142,  0.48842284])"
      ]
     },
     "execution_count": 24,
     "metadata": {},
     "output_type": "execute_result"
    },
    {
     "data": {
      "text/plain": [
       "-0.2652624106635453"
      ]
     },
     "execution_count": 24,
     "metadata": {},
     "output_type": "execute_result"
    },
    {
     "data": {
      "text/plain": [
       "array([ 0.53555281, -0.68084971,  0.16305588,  6.56593778,  3.15033848,\n",
       "       -7.05738889, -3.01838254,  2.92563026,  0.67360309, -0.46240311])"
      ]
     },
     "execution_count": 24,
     "metadata": {},
     "output_type": "execute_result"
    },
    {
     "data": {
      "text/plain": [
       "-0.1817998262999292"
      ]
     },
     "execution_count": 24,
     "metadata": {},
     "output_type": "execute_result"
    },
    {
     "data": {
      "text/plain": [
       "array([ 0.78908057, -0.3026562 , -2.44355631,  5.26822829,  9.67500259,\n",
       "       -5.33245962, -9.39027058,  1.98246977,  3.35515828, -0.28453341,\n",
       "       -0.40824405])"
      ]
     },
     "execution_count": 24,
     "metadata": {},
     "output_type": "execute_result"
    },
    {
     "data": {
      "text/plain": [
       "-0.19995221254902695"
      ]
     },
     "execution_count": 24,
     "metadata": {},
     "output_type": "execute_result"
    },
    {
     "data": {
      "text/plain": [
       "array([ 0.78365101, -0.20286183, -2.39374239,  4.79049146,  9.53883725,\n",
       "       -4.48115718, -9.23588176,  1.29791706,  3.2797666 , -0.03128893,\n",
       "       -0.39513873, -0.03511085])"
      ]
     },
     "execution_count": 24,
     "metadata": {},
     "output_type": "execute_result"
    },
    {
     "data": {
      "text/plain": [
       "-0.20395987250664582"
      ]
     },
     "execution_count": 24,
     "metadata": {},
     "output_type": "execute_result"
    },
    {
     "data": {
      "text/plain": [
       "array([0.28579213])"
      ]
     },
     "execution_count": 24,
     "metadata": {},
     "output_type": "execute_result"
    },
    {
     "data": {
      "text/plain": [
       "8.789076567569692e-16"
      ]
     },
     "execution_count": 24,
     "metadata": {},
     "output_type": "execute_result"
    },
    {
     "data": {
      "text/plain": [
       "array([ 0.28865715, -0.22824456])"
      ]
     },
     "execution_count": 24,
     "metadata": {},
     "output_type": "execute_result"
    },
    {
     "data": {
      "text/plain": [
       "0.2217232852400003"
      ]
     },
     "execution_count": 24,
     "metadata": {},
     "output_type": "execute_result"
    },
    {
     "data": {
      "text/plain": [
       "array([ 1.83157134, -0.206613  , -0.91452342])"
      ]
     },
     "execution_count": 24,
     "metadata": {},
     "output_type": "execute_result"
    },
    {
     "data": {
      "text/plain": [
       "0.21186126362675545"
      ]
     },
     "execution_count": 24,
     "metadata": {},
     "output_type": "execute_result"
    },
    {
     "data": {
      "text/plain": [
       "array([ 1.87026923,  2.1422319 , -0.92479535, -1.0107664 ])"
      ]
     },
     "execution_count": 24,
     "metadata": {},
     "output_type": "execute_result"
    },
    {
     "data": {
      "text/plain": [
       "-0.4128915053024175"
      ]
     },
     "execution_count": 24,
     "metadata": {},
     "output_type": "execute_result"
    },
    {
     "data": {
      "text/plain": [
       "array([ 0.53768766,  2.20851974,  1.32288888, -1.03985899, -0.74461686])"
      ]
     },
     "execution_count": 24,
     "metadata": {},
     "output_type": "execute_result"
    },
    {
     "data": {
      "text/plain": [
       "-0.42061524945560785"
      ]
     },
     "execution_count": 24,
     "metadata": {},
     "output_type": "execute_result"
    },
    {
     "data": {
      "text/plain": [
       "array([ 0.56654414,  1.02261378,  1.28627572,  0.25900403, -0.73504103,\n",
       "       -0.35069356])"
      ]
     },
     "execution_count": 24,
     "metadata": {},
     "output_type": "execute_result"
    },
    {
     "data": {
      "text/plain": [
       "-0.2724273221065899"
      ]
     },
     "execution_count": 24,
     "metadata": {},
     "output_type": "execute_result"
    },
    {
     "data": {
      "text/plain": [
       "array([ 0.38287842,  1.07263775,  1.94319478,  0.21023186, -1.28910022,\n",
       "       -0.33816035,  0.1302727 ])"
      ]
     },
     "execution_count": 24,
     "metadata": {},
     "output_type": "execute_result"
    },
    {
     "data": {
      "text/plain": [
       "-0.2799642220441096"
      ]
     },
     "execution_count": 24,
     "metadata": {},
     "output_type": "execute_result"
    },
    {
     "data": {
      "text/plain": [
       "array([ 0.40734879,  0.31917461,  1.9173188 ,  1.73923643, -1.28576294,\n",
       "       -1.33325776,  0.13201412,  0.2013973 ])"
      ]
     },
     "execution_count": 24,
     "metadata": {},
     "output_type": "execute_result"
    },
    {
     "data": {
      "text/plain": [
       "-0.22111981095364738"
      ]
     },
     "execution_count": 24,
     "metadata": {},
     "output_type": "execute_result"
    },
    {
     "data": {
      "text/plain": [
       "array([ 1.01412576,  0.48235306, -1.79377676,  1.34593996,  4.35588453,\n",
       "       -1.06823857, -2.97803117,  0.14834169,  0.56491842])"
      ]
     },
     "execution_count": 24,
     "metadata": {},
     "output_type": "execute_result"
    },
    {
     "data": {
      "text/plain": [
       "-0.21963360754367997"
      ]
     },
     "execution_count": 24,
     "metadata": {},
     "output_type": "execute_result"
    },
    {
     "data": {
      "text/plain": [
       "array([ 1.02076342,  0.88382697, -1.84960322,  0.07337355,  4.42767837,\n",
       "        0.35382801, -3.0100963 , -0.50159096,  0.56971829,  0.10393954])"
      ]
     },
     "execution_count": 24,
     "metadata": {},
     "output_type": "execute_result"
    },
    {
     "data": {
      "text/plain": [
       "-0.24190233619959658"
      ]
     },
     "execution_count": 24,
     "metadata": {},
     "output_type": "execute_result"
    },
    {
     "data": {
      "text/plain": [
       "array([ 0.91218747,  0.83051939, -0.87702286,  0.18529931,  2.1839031 ,\n",
       "        0.26326858, -0.93991017, -0.46855383, -0.2595048 ,  0.09942522,\n",
       "        0.12030536])"
      ]
     },
     "execution_count": 24,
     "metadata": {},
     "output_type": "execute_result"
    },
    {
     "data": {
      "text/plain": [
       "-0.2399461102697881"
      ]
     },
     "execution_count": 24,
     "metadata": {},
     "output_type": "execute_result"
    },
    {
     "data": {
      "text/plain": [
       "array([ 0.9166634 ,  0.98124043, -0.90186004, -0.54175107,  2.23062876,\n",
       "        1.53698606, -0.97911005, -1.4679323 , -0.24462537,  0.4583109 ,\n",
       "        0.11821839, -0.04808007])"
      ]
     },
     "execution_count": 24,
     "metadata": {},
     "output_type": "execute_result"
    },
    {
     "data": {
      "text/plain": [
       "-0.2458669909215849"
      ]
     },
     "execution_count": 24,
     "metadata": {},
     "output_type": "execute_result"
    },
    {
     "data": {
      "text/plain": [
       "array([0.1170143])"
      ]
     },
     "execution_count": 24,
     "metadata": {},
     "output_type": "execute_result"
    },
    {
     "data": {
      "text/plain": [
       "3.0909227863437966e-16"
      ]
     },
     "execution_count": 24,
     "metadata": {},
     "output_type": "execute_result"
    },
    {
     "data": {
      "text/plain": [
       "array([ 0.13025401, -0.32163442])"
      ]
     },
     "execution_count": 24,
     "metadata": {},
     "output_type": "execute_result"
    },
    {
     "data": {
      "text/plain": [
       "0.31244486609517974"
      ]
     },
     "execution_count": 24,
     "metadata": {},
     "output_type": "execute_result"
    },
    {
     "data": {
      "text/plain": [
       "array([ 1.68347991, -0.12094921, -0.84551845])"
      ]
     },
     "execution_count": 24,
     "metadata": {},
     "output_type": "execute_result"
    },
    {
     "data": {
      "text/plain": [
       "0.15130388693327762"
      ]
     },
     "execution_count": 24,
     "metadata": {},
     "output_type": "execute_result"
    },
    {
     "data": {
      "text/plain": [
       "array([ 1.67177757,  2.09576183, -0.73412143, -0.88217756])"
      ]
     },
     "execution_count": 24,
     "metadata": {},
     "output_type": "execute_result"
    },
    {
     "data": {
      "text/plain": [
       "-0.4238870838929275"
      ]
     },
     "execution_count": 24,
     "metadata": {},
     "output_type": "execute_result"
    },
    {
     "data": {
      "text/plain": [
       "array([ 0.52619872,  2.0654884 ,  1.15571537, -0.83859859, -0.58513033])"
      ]
     },
     "execution_count": 24,
     "metadata": {},
     "output_type": "execute_result"
    },
    {
     "data": {
      "text/plain": [
       "-0.36442141271871636"
      ]
     },
     "execution_count": 24,
     "metadata": {},
     "output_type": "execute_result"
    },
    {
     "data": {
      "text/plain": [
       "array([ 0.53943646,  0.98393254,  1.14418872,  0.2784158 , -0.57348749,\n",
       "       -0.27996739])"
      ]
     },
     "execution_count": 24,
     "metadata": {},
     "output_type": "execute_result"
    },
    {
     "data": {
      "text/plain": [
       "-0.2251949256826909"
      ]
     },
     "execution_count": 24,
     "metadata": {},
     "output_type": "execute_result"
    },
    {
     "data": {
      "text/plain": [
       "array([ 0.17249431,  0.92894306,  2.34775236,  0.33660149, -1.49476581,\n",
       "       -0.29812305,  0.19648509])"
      ]
     },
     "execution_count": 24,
     "metadata": {},
     "output_type": "execute_result"
    },
    {
     "data": {
      "text/plain": [
       "-0.2062296814540301"
      ]
     },
     "execution_count": 24,
     "metadata": {},
     "output_type": "execute_result"
    },
    {
     "data": {
      "text/plain": [
       "array([ 0.20458487,  0.48980383,  2.2538772 ,  1.16905534, -1.41479845,\n",
       "       -0.79135865,  0.17741699,  0.09030726])"
      ]
     },
     "execution_count": 24,
     "metadata": {},
     "output_type": "execute_result"
    },
    {
     "data": {
      "text/plain": [
       "-0.17205909875354952"
      ]
     },
     "execution_count": 24,
     "metadata": {},
     "output_type": "execute_result"
    },
    {
     "data": {
      "text/plain": [
       "array([ 0.78150631,  0.9301736 , -1.01531692,  0.25240565,  3.16329917,\n",
       "       -0.16626655, -2.12097384, -0.03860782,  0.37848243])"
      ]
     },
     "execution_count": 24,
     "metadata": {},
     "output_type": "execute_result"
    },
    {
     "data": {
      "text/plain": [
       "-0.2139157456289304"
      ]
     },
     "execution_count": 24,
     "metadata": {},
     "output_type": "execute_result"
    },
    {
     "data": {
      "text/plain": [
       "array([ 0.78661662,  0.83946223, -1.04252407,  0.5351517 ,  3.20957664,\n",
       "       -0.46824843, -2.14969464,  0.09094165,  0.38410139, -0.01923891])"
      ]
     },
     "execution_count": 24,
     "metadata": {},
     "output_type": "execute_result"
    },
    {
     "data": {
      "text/plain": [
       "-0.20912044889650344"
      ]
     },
     "execution_count": 24,
     "metadata": {},
     "output_type": "execute_result"
    },
    {
     "data": {
      "text/plain": [
       "array([ 0.45053584,  0.32886069,  1.79943871,  2.0724429 , -3.0371866 ,\n",
       "       -2.1923537 ,  3.32338864,  0.89367189, -1.68734673, -0.14909967,\n",
       "        0.28256992])"
      ]
     },
     "execution_count": 24,
     "metadata": {},
     "output_type": "execute_result"
    },
    {
     "data": {
      "text/plain": [
       "-0.1771371956985925"
      ]
     },
     "execution_count": 24,
     "metadata": {},
     "output_type": "execute_result"
    },
    {
     "data": {
      "text/plain": [
       "array([ 0.42880411,  0.87235334,  2.03439811, -0.47841385, -3.69841014,\n",
       "        2.07289797,  4.03618899, -2.27595456, -2.00810702,  0.92461949,\n",
       "        0.33301806, -0.13527677])"
      ]
     },
     "execution_count": 24,
     "metadata": {},
     "output_type": "execute_result"
    },
    {
     "data": {
      "text/plain": [
       "-0.19756961300413772"
      ]
     },
     "execution_count": 24,
     "metadata": {},
     "output_type": "execute_result"
    }
   ],
   "source": [
    "#CREATE FOLDS FOR CROSS VALIDATION\n",
    "for fold in range(num_folds):\n",
    "    if fold == 0: #First fold = first 'chunk' is the holdout set, rest is training set\n",
    "        x_train_folds = pd.Series(x_train[chunk:]).reset_index(drop=True) # reset_index restores regular order of partial series\n",
    "        y_train_folds = pd.Series(y_train[chunk:]).reset_index(drop=True)\n",
    "        x_holdout = pd.Series(x_train[0:chunk]).reset_index(drop=True)\n",
    "        y_holdout = pd.Series(y_train[0:chunk]).reset_index(drop=True)\n",
    "    else: #Other fold = instances from the first instance to right before the holdout set, continue past holdout set to the end\n",
    "        x_train_folds = pd.concat([x_train[0: fold*chunk], x_train[(fold  + 1)*chunk:]]).reset_index(drop=True)\n",
    "        y_train_folds = pd.concat([y_train[0: fold*chunk], y_train[(fold  + 1)*chunk:]]).reset_index(drop=True)\n",
    "        x_holdout = pd.concat([x_train[fold*chunk: (fold + 1)*chunk]]).reset_index(drop=True)\n",
    "        y_holdout = pd.concat([y_train[fold*chunk: (fold + 1)*chunk]]).reset_index(drop=True)\n",
    "    #Folds are created. The following code repeats for every subsequent fold in the for loop \n",
    "    #NORMALIZATION\n",
    "    x_train_folds_mean = x_train_folds.mean()\n",
    "    x_train_folds_std = x_train_folds.std()\n",
    "    y_train_folds_mean = y_train_folds.mean()\n",
    "    y_train_folds_std = y_train_folds.std()\n",
    "    \n",
    "    #Apply zScoreNormalization, isOutput parameter normalizes the any output with the output training mean and std \n",
    "    x_train_folds = x_train_folds.apply(zScoreNorm, args=(x_train_folds_mean, x_train_folds_std, y_train_folds_mean, y_train_folds_std, False))\n",
    "    y_train_folds = y_train_folds.apply(zScoreNorm, args=(x_train_folds_mean, x_train_folds_std, y_train_folds_mean, y_train_folds_std, True))\n",
    "    x_holdout = x_holdout.apply(zScoreNorm, args=(x_train_folds_mean, x_train_folds_std, y_train_folds_mean, y_train_folds_std, False))\n",
    "    y_holdout = y_holdout.apply(zScoreNorm, args=(x_train_folds_mean, x_train_folds_std, y_train_folds_mean, y_train_folds_std, True))\n",
    "\n",
    "    #LEARN POLYNOMIALS FROM DEG 0 to 12\n",
    "    for d in range(1, 13):\n",
    "        poly = PolynomialFeatures(degree = d, include_bias=False)\n",
    "        poly_train_features = poly.fit_transform(x_train_folds.array.reshape(-1, 1), y_train_folds.array)\n",
    "        poly_reg_model = LinearRegression().fit(poly_train_features, y_train_folds)\n",
    "        #Models have been confirmed with Matlab coefficients \n",
    "        poly_reg_model.coef_\n",
    "        poly_reg_model.intercept_\n",
    "\n",
    "        #Model has been calculated\n",
    "        \n",
    "        #y_pred = poly_reg_model.predict(poly_train_features)\n",
    "        \n"
   ]
  }
 ],
 "metadata": {
  "kernelspec": {
   "display_name": "Python 3.9.12 ('base')",
   "language": "python",
   "name": "python3"
  },
  "language_info": {
   "codemirror_mode": {
    "name": "ipython",
    "version": 3
   },
   "file_extension": ".py",
   "mimetype": "text/x-python",
   "name": "python",
   "nbconvert_exporter": "python",
   "pygments_lexer": "ipython3",
   "version": "3.9.12"
  },
  "orig_nbformat": 4,
  "vscode": {
   "interpreter": {
    "hash": "f4464d9d98df86030bb83b7a330dd664c03d0f2e2e62c40abef14afe3b641395"
   }
  }
 },
 "nbformat": 4,
 "nbformat_minor": 2
}
